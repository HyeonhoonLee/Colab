{
  "nbformat": 4,
  "nbformat_minor": 0,
  "metadata": {
    "colab": {
      "name": "KIOM.ipynb",
      "provenance": [],
      "collapsed_sections": [],
      "mount_file_id": "1DBsrogCQdLjzNEpnT1SJ7JkK7F4BX2DG",
      "authorship_tag": "ABX9TyMGIBRVrG9jh8L61Wmm/0o/",
      "include_colab_link": true
    },
    "kernelspec": {
      "name": "python3",
      "display_name": "Python 3"
    }
  },
  "cells": [
    {
      "cell_type": "markdown",
      "metadata": {
        "id": "view-in-github",
        "colab_type": "text"
      },
      "source": [
        "<a href=\"https://colab.research.google.com/github/HyeonhoonLee/Colab/blob/master/KIOM.ipynb\" target=\"_parent\"><img src=\"https://colab.research.google.com/assets/colab-badge.svg\" alt=\"Open In Colab\"/></a>"
      ]
    },
    {
      "cell_type": "markdown",
      "metadata": {
        "id": "KfySr4tmy-Fp",
        "colab_type": "text"
      },
      "source": [
        "#KIOM 한의임상정보은행 data 분석하기"
      ]
    },
    {
      "cell_type": "markdown",
      "metadata": {
        "id": "xL3NjWdMzSes",
        "colab_type": "text"
      },
      "source": [
        "일단 데이터를 추출해서 상관분석을 전부 돌려보자."
      ]
    },
    {
      "cell_type": "markdown",
      "metadata": {
        "id": "Qa_ie4wOzWKO",
        "colab_type": "text"
      },
      "source": [
        "# 라이브러리 로드"
      ]
    },
    {
      "cell_type": "code",
      "metadata": {
        "id": "EwRzY8iYzViA",
        "colab_type": "code",
        "colab": {
          "base_uri": "https://localhost:8080/",
          "height": 71
        },
        "outputId": "2b8bbced-0f87-4f54-b0d5-7ef06d7f52cf"
      },
      "source": [
        "# 분석에 사용할 pandas, 수치계산에 사용할 numpy, 시각화에 사용할 seaborn 을 불러옵니다.\n",
        "# 또, 구 버전의 주피터 노트북에서는 %matplotlib inline 설정을 되어야 노트북 안에서 그래프를 시각화 합니다.\n",
        "\n",
        "import pandas as pd\n",
        "import numpy as np\n",
        "import seaborn as sns\n",
        "import matplotlib.pyplot as plt\n",
        "\n",
        "%matplotlib inline"
      ],
      "execution_count": 1,
      "outputs": [
        {
          "output_type": "stream",
          "text": [
            "/usr/local/lib/python3.6/dist-packages/statsmodels/tools/_testing.py:19: FutureWarning: pandas.util.testing is deprecated. Use the functions in the public API at pandas.testing instead.\n",
            "  import pandas.util.testing as tm\n"
          ],
          "name": "stderr"
        }
      ]
    },
    {
      "cell_type": "markdown",
      "metadata": {
        "id": "f8637B8jz4Cf",
        "colab_type": "text"
      },
      "source": [
        "#한글 폰트 설정"
      ]
    },
    {
      "cell_type": "code",
      "metadata": {
        "id": "MuCE-WRyz3Zb",
        "colab_type": "code",
        "colab": {}
      },
      "source": [
        "# Google Colab 사용 시 아래 주석을 풀고 폰트설정을 합니다.\n",
        "# 로컬 아나콘다 사용 시에는 그대로 주석처리 해놓으시면 됩니다.\n",
        "# 나눔고딕 설치\n",
        "# 이 코드를 사용시 아래에 있는 폰트를 로드할 경우 colab에서는 오류가 발생하니\n",
        "# 아래에 있는 폰트 설정은 꼭 주석처리를 해주세요. \n",
        "!apt -qq -y install fonts-nanum > /dev/null\n",
        "\n",
        "import matplotlib.font_manager as fm\n",
        "\n",
        "fontpath = '/usr/share/fonts/truetype/nanum/NanumGothic.ttf'\n",
        "font = fm.FontProperties(fname=fontpath, size=9)\n",
        "\n",
        "fm._rebuild()\n",
        "\n",
        "# Colab 의 한글 폰트 설정\n",
        "plt.rc('font', family='NanumGothic') \n",
        "# 마이너스 폰트 깨지는 문제에 대한 대처\n",
        "plt.rc(\"axes\", unicode_minus=False)"
      ],
      "execution_count": null,
      "outputs": []
    },
    {
      "cell_type": "code",
      "metadata": {
        "id": "IaRxc6VqyvmW",
        "colab_type": "code",
        "colab": {}
      },
      "source": [
        "import os\n",
        "\n",
        "os.chdir = \"/content/drive/My Drive/DataCollection/KIOM/\""
      ],
      "execution_count": 3,
      "outputs": []
    },
    {
      "cell_type": "code",
      "metadata": {
        "id": "eoa2FXhjzx4F",
        "colab_type": "code",
        "colab": {}
      },
      "source": [
        ""
      ],
      "execution_count": null,
      "outputs": []
    }
  ]
}