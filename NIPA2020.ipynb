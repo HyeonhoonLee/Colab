{
  "nbformat": 4,
  "nbformat_minor": 0,
  "metadata": {
    "colab": {
      "name": "NIPA2020",
      "provenance": [],
      "mount_file_id": "1BM3fHyWwUEM5uxpqO04R3E5W2s9M8HKQ",
      "authorship_tag": "ABX9TyOJ+qK+FBWi3KdQpTwTiYCI",
      "include_colab_link": true
    },
    "kernelspec": {
      "name": "python3",
      "display_name": "Python 3"
    },
    "accelerator": "GPU"
  },
  "cells": [
    {
      "cell_type": "markdown",
      "metadata": {
        "id": "view-in-github",
        "colab_type": "text"
      },
      "source": [
        "<a href=\"https://colab.research.google.com/github/HyeonhoonLee/Colab/blob/master/NIPA2020.ipynb\" target=\"_parent\"><img src=\"https://colab.research.google.com/assets/colab-badge.svg\" alt=\"Open In Colab\"/></a>"
      ]
    },
    {
      "cell_type": "code",
      "metadata": {
        "id": "pqFeVB6bhen7"
      },
      "source": [
        "import pandas as pd\n",
        "import numpy as np\n",
        "import os\n",
        "import tensorflow as tf\n"
      ],
      "execution_count": 1,
      "outputs": []
    },
    {
      "cell_type": "code",
      "metadata": {
        "id": "ImExa3y4hl9P"
      },
      "source": [
        "seed = 1234"
      ],
      "execution_count": 2,
      "outputs": []
    },
    {
      "cell_type": "code",
      "metadata": {
        "id": "us1ZRzPxhMnF"
      },
      "source": [
        "data_path = '/content/drive/My Drive/DataCollection/NIPA2020/'"
      ],
      "execution_count": 3,
      "outputs": []
    },
    {
      "cell_type": "code",
      "metadata": {
        "id": "LXMw-cQ7hI8l",
        "outputId": "88b06cc1-15a9-4bfa-feb8-2d5cb1729f9c",
        "colab": {
          "base_uri": "https://localhost:8080/",
          "height": 204
        }
      },
      "source": [
        "# Data loading\n",
        "train_df = pd.read_csv('/content/drive/My Drive/DataCollection/NIPA2020/train.tsv', sep='\\t', names= [\"file_name\", \"Plant\", \"Disease\"])\n",
        "train_df.head()"
      ],
      "execution_count": 4,
      "outputs": [
        {
          "output_type": "execute_result",
          "data": {
            "text/html": [
              "<div>\n",
              "<style scoped>\n",
              "    .dataframe tbody tr th:only-of-type {\n",
              "        vertical-align: middle;\n",
              "    }\n",
              "\n",
              "    .dataframe tbody tr th {\n",
              "        vertical-align: top;\n",
              "    }\n",
              "\n",
              "    .dataframe thead th {\n",
              "        text-align: right;\n",
              "    }\n",
              "</style>\n",
              "<table border=\"1\" class=\"dataframe\">\n",
              "  <thead>\n",
              "    <tr style=\"text-align: right;\">\n",
              "      <th></th>\n",
              "      <th>file_name</th>\n",
              "      <th>Plant</th>\n",
              "      <th>Disease</th>\n",
              "    </tr>\n",
              "  </thead>\n",
              "  <tbody>\n",
              "    <tr>\n",
              "      <th>0</th>\n",
              "      <td>3_5_1123.jpg</td>\n",
              "      <td>3</td>\n",
              "      <td>5</td>\n",
              "    </tr>\n",
              "    <tr>\n",
              "      <th>1</th>\n",
              "      <td>3_20_1048.jpg</td>\n",
              "      <td>3</td>\n",
              "      <td>20</td>\n",
              "    </tr>\n",
              "    <tr>\n",
              "      <th>2</th>\n",
              "      <td>4_2_401.jpg</td>\n",
              "      <td>4</td>\n",
              "      <td>2</td>\n",
              "    </tr>\n",
              "    <tr>\n",
              "      <th>3</th>\n",
              "      <td>4_7_740.jpg</td>\n",
              "      <td>4</td>\n",
              "      <td>7</td>\n",
              "    </tr>\n",
              "    <tr>\n",
              "      <th>4</th>\n",
              "      <td>4_11_93.jpg</td>\n",
              "      <td>4</td>\n",
              "      <td>11</td>\n",
              "    </tr>\n",
              "  </tbody>\n",
              "</table>\n",
              "</div>"
            ],
            "text/plain": [
              "       file_name  Plant  Disease\n",
              "0   3_5_1123.jpg      3        5\n",
              "1  3_20_1048.jpg      3       20\n",
              "2    4_2_401.jpg      4        2\n",
              "3    4_7_740.jpg      4        7\n",
              "4    4_11_93.jpg      4       11"
            ]
          },
          "metadata": {
            "tags": []
          },
          "execution_count": 4
        }
      ]
    },
    {
      "cell_type": "code",
      "metadata": {
        "id": "h_bsT68zrlpQ",
        "outputId": "12e27f3a-9a0c-490f-dbce-19b4a1d27795",
        "colab": {
          "base_uri": "https://localhost:8080/",
          "height": 170
        }
      },
      "source": [
        "train_df[\"Plant\"].value_counts()"
      ],
      "execution_count": 5,
      "outputs": [
        {
          "output_type": "execute_result",
          "data": {
            "text/plain": [
              "13    6400\n",
              "4     2400\n",
              "7     1600\n",
              "3     1600\n",
              "8     1600\n",
              "5      800\n",
              "11     800\n",
              "10     800\n",
              "Name: Plant, dtype: int64"
            ]
          },
          "metadata": {
            "tags": []
          },
          "execution_count": 5
        }
      ]
    },
    {
      "cell_type": "code",
      "metadata": {
        "id": "kGBc0ghUKDn1"
      },
      "source": [
        "# plantclasss = {7:13, 1:4, 4:7, 3:3, 0:8, 6:5, 5:11, 2:10}"
      ],
      "execution_count": 30,
      "outputs": []
    },
    {
      "cell_type": "code",
      "metadata": {
        "id": "pObDUND_KlEp"
      },
      "source": [
        "train_df.Plant = pd.factorize(train_df.Plant)[0]"
      ],
      "execution_count": 32,
      "outputs": []
    },
    {
      "cell_type": "code",
      "metadata": {
        "id": "V1GeBepWKtxJ",
        "outputId": "2ecfea6f-6f43-4f73-fa6a-610c16bda17c",
        "colab": {
          "base_uri": "https://localhost:8080/",
          "height": 170
        }
      },
      "source": [
        "train_df[\"Plant\"].value_counts()"
      ],
      "execution_count": 33,
      "outputs": [
        {
          "output_type": "execute_result",
          "data": {
            "text/plain": [
              "7    6400\n",
              "1    2400\n",
              "4    1600\n",
              "3    1600\n",
              "0    1600\n",
              "6     800\n",
              "5     800\n",
              "2     800\n",
              "Name: Plant, dtype: int64"
            ]
          },
          "metadata": {
            "tags": []
          },
          "execution_count": 33
        }
      ]
    },
    {
      "cell_type": "code",
      "metadata": {
        "id": "XRweMB13rs8D",
        "outputId": "df0ffb66-3604-4bf0-c2f5-5c1a70823c8e",
        "colab": {
          "base_uri": "https://localhost:8080/",
          "height": 272
        }
      },
      "source": [
        "train_df[\"Disease\"].value_counts()"
      ],
      "execution_count": 6,
      "outputs": [
        {
          "output_type": "execute_result",
          "data": {
            "text/plain": [
              "20    3200\n",
              "6     1600\n",
              "9     1600\n",
              "1     1600\n",
              "15     800\n",
              "7      800\n",
              "14     800\n",
              "5      800\n",
              "11     800\n",
              "18     800\n",
              "2      800\n",
              "17     800\n",
              "16     800\n",
              "8      800\n",
              "Name: Disease, dtype: int64"
            ]
          },
          "metadata": {
            "tags": []
          },
          "execution_count": 6
        }
      ]
    },
    {
      "cell_type": "code",
      "metadata": {
        "id": "UlIrnzdWKxoM"
      },
      "source": [
        "train_df.Disease = pd.factorize(train_df.Disease)[0]"
      ],
      "execution_count": 34,
      "outputs": []
    },
    {
      "cell_type": "code",
      "metadata": {
        "id": "IRQlwNAuL59X"
      },
      "source": [
        "# diseaseclasss = {1:20, 7:6, 6:9, 8:1, 13:15, 5:7, 12:14, 4:5, 11:11, 3:18, 10:2, 2:17, 9:16, 0:8}"
      ],
      "execution_count": null,
      "outputs": []
    },
    {
      "cell_type": "code",
      "metadata": {
        "id": "wtaCHHANK23F",
        "outputId": "1932029d-182b-4bad-8f99-cf6a85e7a53e",
        "colab": {
          "base_uri": "https://localhost:8080/",
          "height": 272
        }
      },
      "source": [
        "train_df[\"Disease\"].value_counts()"
      ],
      "execution_count": 35,
      "outputs": [
        {
          "output_type": "execute_result",
          "data": {
            "text/plain": [
              "1     3200\n",
              "7     1600\n",
              "6     1600\n",
              "8     1600\n",
              "13     800\n",
              "5      800\n",
              "12     800\n",
              "4      800\n",
              "11     800\n",
              "3      800\n",
              "10     800\n",
              "2      800\n",
              "9      800\n",
              "0      800\n",
              "Name: Disease, dtype: int64"
            ]
          },
          "metadata": {
            "tags": []
          },
          "execution_count": 35
        }
      ]
    },
    {
      "cell_type": "code",
      "metadata": {
        "id": "w0sJd03WqL0h"
      },
      "source": [
        "# train_df['Plant'] = train_df['Plant'].astype(str)\n",
        "# train_df['Disease'] = train_df['Disease'].astype(str)"
      ],
      "execution_count": 36,
      "outputs": []
    },
    {
      "cell_type": "code",
      "metadata": {
        "id": "5lqJWd29txCr"
      },
      "source": [
        "# train_df['label'] = list(zip(train_df.Plant, train_df.Disease))\n",
        "# train_df.head()"
      ],
      "execution_count": 37,
      "outputs": []
    },
    {
      "cell_type": "code",
      "metadata": {
        "id": "eGJhVyG-lCey"
      },
      "source": [
        "# train_p_df = train_df.drop(['Disease'], axis=1)\n",
        "# train_p_df.tail()"
      ],
      "execution_count": 38,
      "outputs": []
    },
    {
      "cell_type": "code",
      "metadata": {
        "id": "MN9dx-frlTYj"
      },
      "source": [
        "# train_d_df = train_df.drop(['Plant'], axis=1)\n",
        "# train_d_df.head()"
      ],
      "execution_count": 39,
      "outputs": []
    },
    {
      "cell_type": "code",
      "metadata": {
        "id": "O0Pa0cCSm33s",
        "outputId": "5b2292c7-c4b6-42e1-93f8-c9603bd0b87d",
        "colab": {
          "base_uri": "https://localhost:8080/",
          "height": 204
        }
      },
      "source": [
        "# Data loading\n",
        "test_df = pd.read_csv('/content/drive/My Drive/DataCollection/NIPA2020/test.tsv', sep='\\t', names= [\"file_name\"])\n",
        "test_df.head()"
      ],
      "execution_count": 40,
      "outputs": [
        {
          "output_type": "execute_result",
          "data": {
            "text/html": [
              "<div>\n",
              "<style scoped>\n",
              "    .dataframe tbody tr th:only-of-type {\n",
              "        vertical-align: middle;\n",
              "    }\n",
              "\n",
              "    .dataframe tbody tr th {\n",
              "        vertical-align: top;\n",
              "    }\n",
              "\n",
              "    .dataframe thead th {\n",
              "        text-align: right;\n",
              "    }\n",
              "</style>\n",
              "<table border=\"1\" class=\"dataframe\">\n",
              "  <thead>\n",
              "    <tr style=\"text-align: right;\">\n",
              "      <th></th>\n",
              "      <th>file_name</th>\n",
              "    </tr>\n",
              "  </thead>\n",
              "  <tbody>\n",
              "    <tr>\n",
              "      <th>0</th>\n",
              "      <td>0.jpg</td>\n",
              "    </tr>\n",
              "    <tr>\n",
              "      <th>1</th>\n",
              "      <td>1.jpg</td>\n",
              "    </tr>\n",
              "    <tr>\n",
              "      <th>2</th>\n",
              "      <td>2.jpg</td>\n",
              "    </tr>\n",
              "    <tr>\n",
              "      <th>3</th>\n",
              "      <td>3.jpg</td>\n",
              "    </tr>\n",
              "    <tr>\n",
              "      <th>4</th>\n",
              "      <td>4.jpg</td>\n",
              "    </tr>\n",
              "  </tbody>\n",
              "</table>\n",
              "</div>"
            ],
            "text/plain": [
              "  file_name\n",
              "0     0.jpg\n",
              "1     1.jpg\n",
              "2     2.jpg\n",
              "3     3.jpg\n",
              "4     4.jpg"
            ]
          },
          "metadata": {
            "tags": []
          },
          "execution_count": 40
        }
      ]
    },
    {
      "cell_type": "code",
      "metadata": {
        "id": "Cae7byDQlgMJ"
      },
      "source": [
        "from keras_preprocessing.image import ImageDataGenerator"
      ],
      "execution_count": 41,
      "outputs": []
    },
    {
      "cell_type": "code",
      "metadata": {
        "id": "Y4CIa6hXpk6f"
      },
      "source": [
        "from keras.layers import Dense, Activation, Flatten, Dropout, BatchNormalization, Input\n",
        "from keras.layers import Conv2D, MaxPooling2D\n",
        "from keras import regularizers, optimizers, Model"
      ],
      "execution_count": 42,
      "outputs": []
    },
    {
      "cell_type": "code",
      "metadata": {
        "id": "TCniDMw9huGz"
      },
      "source": [
        "train_datagen = tf.keras.preprocessing.image.ImageDataGenerator(\n",
        "        rescale=1./255,\n",
        "        shear_range=0.2,\n",
        "        zoom_range=0.2,\n",
        "        horizontal_flip=True,\n",
        "        validation_split=0.2)"
      ],
      "execution_count": 43,
      "outputs": []
    },
    {
      "cell_type": "code",
      "metadata": {
        "id": "ki57bLr9j3PR",
        "outputId": "51b4ed7b-4c6f-40d1-b7c4-9cded694c9d4",
        "colab": {
          "base_uri": "https://localhost:8080/",
          "height": 34
        }
      },
      "source": [
        "train_generator=train_datagen.flow_from_dataframe(\n",
        "  dataframe=train_df,\n",
        "  directory=\"/content/drive/My Drive/DataCollection/NIPA2020/train\",\n",
        "  x_col=\"file_name\",\n",
        "  y_col=[\"Plant\",\"Disease\"],\n",
        "  subset=\"training\",\n",
        "  batch_size=32,\n",
        "  seed=seed,\n",
        "  shuffle=True,\n",
        "  class_mode=\"raw\",\n",
        "  target_size=(128,128))"
      ],
      "execution_count": 44,
      "outputs": [
        {
          "output_type": "stream",
          "text": [
            "Found 12800 validated image filenames.\n"
          ],
          "name": "stdout"
        }
      ]
    },
    {
      "cell_type": "code",
      "metadata": {
        "id": "idJhol3Enlnh",
        "outputId": "96d7119a-24ec-47b7-f518-b0607fb389d0",
        "colab": {
          "base_uri": "https://localhost:8080/",
          "height": 34
        }
      },
      "source": [
        "validation_generator=train_datagen.flow_from_dataframe(\n",
        "  dataframe=train_df,\n",
        "  directory=\"/content/drive/My Drive/DataCollection/NIPA2020/train\",\n",
        "  x_col=\"file_name\",\n",
        "  y_col=[\"Plant\",\"Disease\"],\n",
        "  subset=\"validation\",\n",
        "  batch_size=32,\n",
        "  seed=seed,\n",
        "  shuffle=True,\n",
        "  class_mode=\"raw\",\n",
        "  target_size=(128,128))"
      ],
      "execution_count": 45,
      "outputs": [
        {
          "output_type": "stream",
          "text": [
            "Found 3200 validated image filenames.\n"
          ],
          "name": "stdout"
        }
      ]
    },
    {
      "cell_type": "code",
      "metadata": {
        "id": "XWOUlCtunXiW"
      },
      "source": [
        "# p_model = tf.keras.applications.ResNet152(\n",
        "    # include_top=True, weights='imagenet', input_shape=(128,128,3), classes=18)"
      ],
      "execution_count": 46,
      "outputs": []
    },
    {
      "cell_type": "code",
      "metadata": {
        "id": "Ld1cqqispftx"
      },
      "source": [
        "# model = tf.keras.Sequential()\n",
        "# model.add(Conv2D(64, (3, 3), padding='same',\n",
        "#                  input_shape=(128,128,3)))\n",
        "# model.add(Activation('relu'))\n",
        "# model.add(Conv2D(64, (3, 3)))\n",
        "# model.add(Activation('relu'))\n",
        "# model.add(MaxPooling2D(pool_size=(2, 2)))\n",
        "# model.add(Dropout(0.25))\n",
        "# model.add(Conv2D(32, (3, 3), padding='same'))\n",
        "# model.add(Activation('relu'))\n",
        "# model.add(Conv2D(32, (3, 3)))\n",
        "# model.add(Activation('relu'))\n",
        "# model.add(MaxPooling2D(pool_size=(2, 2)))\n",
        "# model.add(Dropout(0.25))\n",
        "# model.add(Flatten())\n",
        "# model.add(Dense(512))\n",
        "# model.add(Activation('relu'))\n",
        "# model.add(Dropout(0.5))\n",
        "# model.add(Dense(18, activation='softmax'))"
      ],
      "execution_count": 47,
      "outputs": []
    },
    {
      "cell_type": "code",
      "metadata": {
        "id": "WAa5lfxYyA0e"
      },
      "source": [
        "inp = Input(shape = (128,128,3))\n",
        "x = Conv2D(32, (3, 3), padding = 'same')(inp)\n",
        "x = Activation('relu')(x)\n",
        "x = Conv2D(32, (3, 3))(x)\n",
        "x = Activation('relu')(x)\n",
        "x = MaxPooling2D(pool_size = (2, 2))(x)\n",
        "x = Dropout(0.25)(x)\n",
        "x = Conv2D(64, (3, 3), padding = 'same')(x)\n",
        "x = Activation('relu')(x)\n",
        "x = Conv2D(64, (3, 3))(x)\n",
        "x = Activation('relu')(x)\n",
        "x = MaxPooling2D(pool_size = (2, 2))(x)\n",
        "x = Dropout(0.25)(x)\n",
        "x = Flatten()(x)\n",
        "x = Dense(512)(x)\n",
        "x = Activation('relu')(x)\n",
        "x = Dropout(0.5)(x)\n",
        "output1 = Dense(8, activation = 'sigmoid')(x)\n",
        "output2 = Dense(14, activation = 'sigmoid')(x)\n",
        "model = Model(inp,[output1,output2])\n"
      ],
      "execution_count": 48,
      "outputs": []
    },
    {
      "cell_type": "code",
      "metadata": {
        "id": "6Pud5RKBpFLY",
        "outputId": "c7eabc3c-8338-4f98-9f3f-00f5a5367822",
        "colab": {
          "base_uri": "https://localhost:8080/",
          "height": 799
        }
      },
      "source": [
        "model.summary()"
      ],
      "execution_count": 49,
      "outputs": [
        {
          "output_type": "stream",
          "text": [
            "Model: \"functional_3\"\n",
            "__________________________________________________________________________________________________\n",
            "Layer (type)                    Output Shape         Param #     Connected to                     \n",
            "==================================================================================================\n",
            "input_2 (InputLayer)            [(None, 128, 128, 3) 0                                            \n",
            "__________________________________________________________________________________________________\n",
            "conv2d_4 (Conv2D)               (None, 128, 128, 32) 896         input_2[0][0]                    \n",
            "__________________________________________________________________________________________________\n",
            "activation_5 (Activation)       (None, 128, 128, 32) 0           conv2d_4[0][0]                   \n",
            "__________________________________________________________________________________________________\n",
            "conv2d_5 (Conv2D)               (None, 126, 126, 32) 9248        activation_5[0][0]               \n",
            "__________________________________________________________________________________________________\n",
            "activation_6 (Activation)       (None, 126, 126, 32) 0           conv2d_5[0][0]                   \n",
            "__________________________________________________________________________________________________\n",
            "max_pooling2d_2 (MaxPooling2D)  (None, 63, 63, 32)   0           activation_6[0][0]               \n",
            "__________________________________________________________________________________________________\n",
            "dropout_3 (Dropout)             (None, 63, 63, 32)   0           max_pooling2d_2[0][0]            \n",
            "__________________________________________________________________________________________________\n",
            "conv2d_6 (Conv2D)               (None, 63, 63, 64)   18496       dropout_3[0][0]                  \n",
            "__________________________________________________________________________________________________\n",
            "activation_7 (Activation)       (None, 63, 63, 64)   0           conv2d_6[0][0]                   \n",
            "__________________________________________________________________________________________________\n",
            "conv2d_7 (Conv2D)               (None, 61, 61, 64)   36928       activation_7[0][0]               \n",
            "__________________________________________________________________________________________________\n",
            "activation_8 (Activation)       (None, 61, 61, 64)   0           conv2d_7[0][0]                   \n",
            "__________________________________________________________________________________________________\n",
            "max_pooling2d_3 (MaxPooling2D)  (None, 30, 30, 64)   0           activation_8[0][0]               \n",
            "__________________________________________________________________________________________________\n",
            "dropout_4 (Dropout)             (None, 30, 30, 64)   0           max_pooling2d_3[0][0]            \n",
            "__________________________________________________________________________________________________\n",
            "flatten_1 (Flatten)             (None, 57600)        0           dropout_4[0][0]                  \n",
            "__________________________________________________________________________________________________\n",
            "dense_3 (Dense)                 (None, 512)          29491712    flatten_1[0][0]                  \n",
            "__________________________________________________________________________________________________\n",
            "activation_9 (Activation)       (None, 512)          0           dense_3[0][0]                    \n",
            "__________________________________________________________________________________________________\n",
            "dropout_5 (Dropout)             (None, 512)          0           activation_9[0][0]               \n",
            "__________________________________________________________________________________________________\n",
            "dense_4 (Dense)                 (None, 8)            4104        dropout_5[0][0]                  \n",
            "__________________________________________________________________________________________________\n",
            "dense_5 (Dense)                 (None, 14)           7182        dropout_5[0][0]                  \n",
            "==================================================================================================\n",
            "Total params: 29,568,566\n",
            "Trainable params: 29,568,566\n",
            "Non-trainable params: 0\n",
            "__________________________________________________________________________________________________\n"
          ],
          "name": "stdout"
        }
      ]
    },
    {
      "cell_type": "code",
      "metadata": {
        "id": "qtEJhzhxyHEI"
      },
      "source": [
        "# model.compile(optimizers.rmsprop(lr = 0.0001, decay = 1e-6),\n",
        "# loss = [\"binary_crossentropy\",\"binary_crossentropy\",,metrics = [\"accuracy\"])"
      ],
      "execution_count": 50,
      "outputs": []
    },
    {
      "cell_type": "code",
      "metadata": {
        "id": "LT2Vwx2b0jvb"
      },
      "source": [
        "loss = tf.keras.losses.SparseCategoricalCrossentropy(\n",
        "    from_logits=False)\n",
        "# loss = tf.keras.losses.CategoricalCrossentropy(\n",
        "#     from_logits=False)"
      ],
      "execution_count": 56,
      "outputs": []
    },
    {
      "cell_type": "code",
      "metadata": {
        "id": "Og4QSnoJoLB8"
      },
      "source": [
        "model.compile(optimizer='adam', \n",
        "              # loss = {\"dense_1\" : loss, \"dense_2\" : loss},\n",
        "              loss = [loss, loss],\n",
        "              metrics=[tf.keras.metrics.SparseCategoricalAccuracy()]\n",
        "              # metrics='mae'\n",
        "              )"
      ],
      "execution_count": 57,
      "outputs": []
    },
    {
      "cell_type": "code",
      "metadata": {
        "id": "ISZ8_eFqszrR",
        "outputId": "f3b157dd-2d13-40a0-9f3f-703943052b26",
        "colab": {
          "base_uri": "https://localhost:8080/",
          "height": 51
        }
      },
      "source": [
        "checkpoint_path = os.path.join(data_path, 'weights.h5')\n",
        "checkpoint_dir = os.path.dirname(checkpoint_path)\n",
        "\n",
        "# Create path if exists\n",
        "if os.path.exists(checkpoint_dir):\n",
        "    print(\"{} -- Folder already exists \\n\".format(checkpoint_dir))\n",
        "else:\n",
        "    os.makedirs(checkpoint_dir, exist_ok=True)\n",
        "    print(\"{} -- Folder create complete \\n\".format(checkpoint_dir))\n",
        "    \n",
        "cp_callback = tf.keras.callbacks.ModelCheckpoint(\n",
        "    checkpoint_path, monitor='val_accuracy', verbose=1, save_best_only=True, save_weights_only=True)"
      ],
      "execution_count": 58,
      "outputs": [
        {
          "output_type": "stream",
          "text": [
            "/content/drive/My Drive/DataCollection/NIPA2020 -- Folder already exists \n",
            "\n"
          ],
          "name": "stdout"
        }
      ]
    },
    {
      "cell_type": "code",
      "metadata": {
        "id": "EI0WD5b07Rtv"
      },
      "source": [
        "# from sklearn.preprocessing import MultiLabelBinarizer\n",
        "# # Fit a MultiLabelBinarizer\n",
        "# mlb = MultiLabelBinarizer()\n",
        "# mlb.fit(train_df['label'].values.tolist())\n",
        "# # The helper function\n",
        "# def multilabel_flow_from_dataframe(data_generator, mlb):\n",
        "#     for x, y in data_generator:\n",
        "#         indices = y.astype(np.int).tolist()\n",
        "#         y_multi = mlb.transform(\n",
        "#             train_df.iloc[indices]['label'].values.tolist()\n",
        "#         )\n",
        "#         yield x, y_multi"
      ],
      "execution_count": 59,
      "outputs": []
    },
    {
      "cell_type": "code",
      "metadata": {
        "id": "Y6cFujSv7jIV"
      },
      "source": [
        "# multilabel_generator = multilabel_flow_from_dataframe(\n",
        "#     train_generator, mlb\n",
        "# )\n",
        "# multilabel_generator2 = multilabel_flow_from_dataframe(\n",
        "#     validation_generator, mlb\n",
        "# )"
      ],
      "execution_count": 60,
      "outputs": []
    },
    {
      "cell_type": "code",
      "metadata": {
        "id": "BbuO9uoU7yAN"
      },
      "source": [
        "# model.fit(multilabel_generator,\n",
        "#           # steps_per_epoch=STEP_SIZE_TRAIN,\n",
        "#           validation_data=multilabel_generator2,\n",
        "#           validation_steps=10,\n",
        "#           epochs=1,verbose=2\n",
        "# )"
      ],
      "execution_count": 61,
      "outputs": []
    },
    {
      "cell_type": "code",
      "metadata": {
        "id": "30EQpIjXymP-"
      },
      "source": [
        "def generator_wrapper(generator):\n",
        "    for batch_x,batch_y in generator:\n",
        "        yield (batch_x,[batch_y[:,i] for i in range(2)])\n",
        "# def generator_wrapper2(generator):\n",
        "#     for batch_x,batch_y in generator:\n",
        "#         yield (batch_x,[batch_y[:,i] for i in range(1)])"
      ],
      "execution_count": 62,
      "outputs": []
    },
    {
      "cell_type": "code",
      "metadata": {
        "id": "Zrl2_s2pC_gN",
        "outputId": "75b6284e-a9e6-4ec3-8444-82aa05ecdd25",
        "colab": {
          "base_uri": "https://localhost:8080/",
          "height": 71
        }
      },
      "source": [
        "STEP_SIZE_TRAIN=train_generator.n//train_generator.batch_size\n",
        "STEP_SIZE_VALID=validation_generator.n//validation_generator.batch_size\n",
        "# STEP_SIZE_TEST=test_generator.n//test_generator.batch_size\n",
        "model.fit_generator(generator=generator_wrapper(train_generator),\n",
        "                    steps_per_epoch=STEP_SIZE_TRAIN,\n",
        "                  validation_data=generator_wrapper(validation_generator),\n",
        "                    validation_steps=STEP_SIZE_VALID,\n",
        "                    epochs=10,verbose=1\n",
        ")"
      ],
      "execution_count": null,
      "outputs": [
        {
          "output_type": "stream",
          "text": [
            "Epoch 1/10\n",
            "130/400 [========>.....................] - ETA: 12:38 - loss: 3.7310 - dense_4_loss: 1.4891 - dense_5_loss: 2.2419 - dense_4_sparse_categorical_accuracy: 0.4173 - dense_5_sparse_categorical_accuracy: 0.2171"
          ],
          "name": "stdout"
        }
      ]
    },
    {
      "cell_type": "code",
      "metadata": {
        "id": "cfVIdDf_Egwh"
      },
      "source": [
        "# def join_generators(generators):\n",
        "#     while True: # keras requires all generators to be infinite\n",
        "#         data = [next(g) for g in generators]\n",
        "\n",
        "#         x = [d[0] for d in data ]\n",
        "#         y = [d[1] for d in data ]\n",
        "\n",
        "#         yield x, y"
      ],
      "execution_count": null,
      "outputs": []
    },
    {
      "cell_type": "code",
      "metadata": {
        "id": "SlDFLvizmz6g"
      },
      "source": [
        "# STEP_SIZE_TRAIN=train_generator.n//train_generator.batch_size\n",
        "# STEP_SIZE_VALID=validation_generator.n//validation_generator.batch_size\n",
        "# # STEP_SIZE_TEST=test_generator.n//test_generator.batch_size\n",
        "# model.fit(join_generators(train_generator),\n",
        "#           # steps_per_epoch=STEP_SIZE_TRAIN,\n",
        "#           epochs=10,\n",
        "#           validation_data=join_generators(validation_generator),\n",
        "#           # validation_steps=STEP_SIZE_VALID,\n",
        "#           validation_steps=1\n",
        "# )"
      ],
      "execution_count": null,
      "outputs": []
    },
    {
      "cell_type": "code",
      "metadata": {
        "id": "r4k9q9-0oJ4m"
      },
      "source": [
        "test_generator.reset()\n",
        "pred=model.predict_generator(test_generator,\n",
        "steps=STEP_SIZE_TEST,\n",
        "verbose=1)"
      ],
      "execution_count": null,
      "outputs": []
    },
    {
      "cell_type": "code",
      "metadata": {
        "id": "iLHqjRxdEL9C"
      },
      "source": [
        "model.fit(train_generator,\n",
        "          # steps_per_epoch=STEP_SIZE_TRAIN,\n",
        "          epochs=10,\n",
        "          validation_data=validation_generator,\n",
        "          # validation_steps=STEP_SIZE_VALID,\n",
        "          validation_steps=1\n",
        ")"
      ],
      "execution_count": null,
      "outputs": []
    },
    {
      "cell_type": "code",
      "metadata": {
        "id": "mRbJ-k_f0GB5"
      },
      "source": [
        "# plantclasss = {7:13, 1:4, 4:7, 3:3, 0:8, 6:5, 5:11, 2:10}\n",
        "# diseaseclasss = {1:20, 7:6, 6:9, 8:1, 13:15, 5:7, 12:14, 4:5, 11:11, 3:18, 10:2, 2:17, 9:16, 0:8}"
      ],
      "execution_count": null,
      "outputs": []
    }
  ]
}